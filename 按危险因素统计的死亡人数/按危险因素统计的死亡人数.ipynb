{
 "cells": [
  {
   "cell_type": "code",
   "execution_count": 2,
   "metadata": {},
   "outputs": [],
   "source": [
    "import pandas as pd\n",
    "df=pd.read_csv(\"C:/Users/我我我/Desktop/death.csv\")"
   ]
  },
  {
   "cell_type": "code",
   "execution_count": 3,
   "metadata": {},
   "outputs": [
    {
     "data": {
      "text/html": [
       "<div>\n",
       "<style scoped>\n",
       "    .dataframe tbody tr th:only-of-type {\n",
       "        vertical-align: middle;\n",
       "    }\n",
       "\n",
       "    .dataframe tbody tr th {\n",
       "        vertical-align: top;\n",
       "    }\n",
       "\n",
       "    .dataframe thead th {\n",
       "        text-align: right;\n",
       "    }\n",
       "</style>\n",
       "<table border=\"1\" class=\"dataframe\">\n",
       "  <thead>\n",
       "    <tr style=\"text-align: right;\">\n",
       "      <th></th>\n",
       "      <th>death</th>\n",
       "      <th>2017</th>\n",
       "    </tr>\n",
       "  </thead>\n",
       "  <tbody>\n",
       "    <tr>\n",
       "      <th>0</th>\n",
       "      <td>水污染</td>\n",
       "      <td>3.886421e+03</td>\n",
       "    </tr>\n",
       "    <tr>\n",
       "      <th>1</th>\n",
       "      <td>室内空气污染</td>\n",
       "      <td>2.710893e+05</td>\n",
       "    </tr>\n",
       "    <tr>\n",
       "      <th>2</th>\n",
       "      <td>非排他性母乳喂养</td>\n",
       "      <td>2.674242e+03</td>\n",
       "    </tr>\n",
       "    <tr>\n",
       "      <th>3</th>\n",
       "      <td>儿童发育不良</td>\n",
       "      <td>1.636863e+03</td>\n",
       "    </tr>\n",
       "    <tr>\n",
       "      <th>4</th>\n",
       "      <td>低出生体重</td>\n",
       "      <td>3.933455e+04</td>\n",
       "    </tr>\n",
       "    <tr>\n",
       "      <th>5</th>\n",
       "      <td>二手烟</td>\n",
       "      <td>3.866414e+05</td>\n",
       "    </tr>\n",
       "    <tr>\n",
       "      <th>6</th>\n",
       "      <td>饮酒</td>\n",
       "      <td>6.702973e+05</td>\n",
       "    </tr>\n",
       "    <tr>\n",
       "      <th>7</th>\n",
       "      <td>药物死亡</td>\n",
       "      <td>1.293063e+05</td>\n",
       "    </tr>\n",
       "    <tr>\n",
       "      <th>8</th>\n",
       "      <td>不安全性行为</td>\n",
       "      <td>7.336690e+04</td>\n",
       "    </tr>\n",
       "    <tr>\n",
       "      <th>9</th>\n",
       "      <td>高血糖</td>\n",
       "      <td>8.910472e+05</td>\n",
       "    </tr>\n",
       "    <tr>\n",
       "      <th>10</th>\n",
       "      <td>肥胖</td>\n",
       "      <td>8.238693e+05</td>\n",
       "    </tr>\n",
       "    <tr>\n",
       "      <th>11</th>\n",
       "      <td>高血压</td>\n",
       "      <td>2.542365e+06</td>\n",
       "    </tr>\n",
       "    <tr>\n",
       "      <th>12</th>\n",
       "      <td>吸烟</td>\n",
       "      <td>2.197653e+06</td>\n",
       "    </tr>\n",
       "    <tr>\n",
       "      <th>13</th>\n",
       "      <td>缺铁</td>\n",
       "      <td>3.253290e+02</td>\n",
       "    </tr>\n",
       "    <tr>\n",
       "      <th>14</th>\n",
       "      <td>缺锌</td>\n",
       "      <td>1.474667e+02</td>\n",
       "    </tr>\n",
       "    <tr>\n",
       "      <th>15</th>\n",
       "      <td>缺维他命</td>\n",
       "      <td>1.690184e+03</td>\n",
       "    </tr>\n",
       "    <tr>\n",
       "      <th>16</th>\n",
       "      <td>低骨密度</td>\n",
       "      <td>6.805492e+04</td>\n",
       "    </tr>\n",
       "    <tr>\n",
       "      <th>17</th>\n",
       "      <td>室内室外空气污染</td>\n",
       "      <td>1.242987e+06</td>\n",
       "    </tr>\n",
       "    <tr>\n",
       "      <th>18</th>\n",
       "      <td>室外空气污染</td>\n",
       "      <td>1.029848e+06</td>\n",
       "    </tr>\n",
       "  </tbody>\n",
       "</table>\n",
       "</div>"
      ],
      "text/plain": [
       "       death          2017\n",
       "0        水污染  3.886421e+03\n",
       "1     室内空气污染  2.710893e+05\n",
       "2   非排他性母乳喂养  2.674242e+03\n",
       "3     儿童发育不良  1.636863e+03\n",
       "4      低出生体重  3.933455e+04\n",
       "5        二手烟  3.866414e+05\n",
       "6         饮酒  6.702973e+05\n",
       "7       药物死亡  1.293063e+05\n",
       "8     不安全性行为  7.336690e+04\n",
       "9        高血糖  8.910472e+05\n",
       "10        肥胖  8.238693e+05\n",
       "11       高血压  2.542365e+06\n",
       "12        吸烟  2.197653e+06\n",
       "13        缺铁  3.253290e+02\n",
       "14        缺锌  1.474667e+02\n",
       "15      缺维他命  1.690184e+03\n",
       "16      低骨密度  6.805492e+04\n",
       "17  室内室外空气污染  1.242987e+06\n",
       "18    室外空气污染  1.029848e+06"
      ]
     },
     "execution_count": 3,
     "metadata": {},
     "output_type": "execute_result"
    }
   ],
   "source": [
    "df"
   ]
  },
  {
   "cell_type": "code",
   "execution_count": 4,
   "metadata": {},
   "outputs": [
    {
     "name": "stdout",
     "output_type": "stream",
     "text": [
      "['水污染', '室内空气污染', '非排他性母乳喂养', '儿童发育不良', '低出生体重', '二手烟', '饮酒', '药物死亡', '不安全性行为', '高血糖', '肥胖', '高血压', '吸烟', '缺铁', '缺锌', '缺维他命', '低骨密度', '室内室外空气污染', '室外空气污染']\n"
     ]
    }
   ],
   "source": [
    "print(list(df.death))"
   ]
  },
  {
   "cell_type": "code",
   "execution_count": 5,
   "metadata": {},
   "outputs": [
    {
     "name": "stdout",
     "output_type": "stream",
     "text": [
      "[3886.420648, 271089.3473, 2674.2420190000003, 1636.863121, 39334.549660000004, 386641.4086, 670297.3078, 129306.3197, 73366.89942999999, 891047.2355, 823869.2608, 2542365.122, 2197652.614, 325.32903960000004, 147.46665190000002, 1690.1835429999999, 68054.92344, 1242986.55, 1029847.77]\n"
     ]
    }
   ],
   "source": [
    "print(list(df['2017']))"
   ]
  },
  {
   "cell_type": "code",
   "execution_count": 7,
   "metadata": {},
   "outputs": [
    {
     "name": "stdout",
     "output_type": "stream",
     "text": [
      "<zip object at 0x000001FD0AC44EC8>\n"
     ]
    }
   ],
   "source": [
    "smoke=zip(list(df.death),(df['2017']))\n",
    "print(smoke)"
   ]
  },
  {
   "cell_type": "code",
   "execution_count": 8,
   "metadata": {},
   "outputs": [
    {
     "name": "stdout",
     "output_type": "stream",
     "text": [
      "[('水污染', 3886.420648), ('室内空气污染', 271089.3473), ('非排他性母乳喂养', 2674.2420190000003), ('儿童发育不良', 1636.863121), ('低出生体重', 39334.549660000004), ('二手烟', 386641.4086), ('饮酒', 670297.3078), ('药物死亡', 129306.3197), ('不安全性行为', 73366.89942999999), ('高血糖', 891047.2355), ('肥胖', 823869.2608), ('高血压', 2542365.122), ('吸烟', 2197652.614), ('缺铁', 325.32903960000004), ('缺锌', 147.46665190000002), ('缺维他命', 1690.1835429999999), ('低骨密度', 68054.92344), ('室内室外空气污染', 1242986.55), ('室外空气污染', 1029847.77)]\n"
     ]
    }
   ],
   "source": [
    "smoke=list(zip(list(df.death),(df['2017'])))\n",
    "print(smoke) "
   ]
  },
  {
   "cell_type": "code",
   "execution_count": 41,
   "metadata": {},
   "outputs": [],
   "source": [
    "def pie_position() -> Pie:\n",
    "    c = (\n",
    "        Pie()\n",
    "        .add(\n",
    "            \"\",\n",
    "            [list(z) for z in zip(list(df.death),(df['2017']))],\n",
    "            center=[\"50%\", \"62%\"],\n",
    "        )\n",
    "        .set_global_opts(\n",
    "            title_opts=opts.TitleOpts(title=\"按危险因素统计的死亡人数\"),\n",
    "            legend_opts=opts.LegendOpts(pos_left=\"30%\"),\n",
    "        )\n",
    "        .set_series_opts(label_opts=opts.LabelOpts(formatter=\"{b}: {c}\"))\n",
    "    )\n",
    "    return c"
   ]
  },
  {
   "cell_type": "code",
   "execution_count": 43,
   "metadata": {},
   "outputs": [
    {
     "data": {
      "text/plain": [
       "'C:\\\\Users\\\\我我我\\\\Desktop\\\\render.html'"
      ]
     },
     "execution_count": 43,
     "metadata": {},
     "output_type": "execute_result"
    }
   ],
   "source": [
    "smoke=pie_position()\n",
    "smoke.render()"
   ]
  },
  {
   "cell_type": "code",
   "execution_count": null,
   "metadata": {},
   "outputs": [],
   "source": []
  }
 ],
 "metadata": {
  "kernelspec": {
   "display_name": "Python 3",
   "language": "python",
   "name": "python3"
  },
  "language_info": {
   "codemirror_mode": {
    "name": "ipython",
    "version": 3
   },
   "file_extension": ".py",
   "mimetype": "text/x-python",
   "name": "python",
   "nbconvert_exporter": "python",
   "pygments_lexer": "ipython3",
   "version": "3.7.3"
  }
 },
 "nbformat": 4,
 "nbformat_minor": 2
}
