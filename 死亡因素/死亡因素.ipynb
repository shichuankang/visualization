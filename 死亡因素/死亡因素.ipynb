{
 "cells": [
  {
   "cell_type": "code",
   "execution_count": 8,
   "metadata": {},
   "outputs": [
    {
     "data": {
      "text/plain": [
       "'C:\\\\Users\\\\我我我\\\\Desktop\\\\render.html'"
      ]
     },
     "execution_count": 8,
     "metadata": {},
     "output_type": "execute_result"
    }
   ],
   "source": [
    "from pyecharts import options as opts\n",
    "from pyecharts.charts import Page, WordCloud\n",
    "from pyecharts.globals import SymbolType\n",
    "\n",
    "\n",
    "words = [\n",
    "    (\"Unsafe water source\", 3886.421),\n",
    "    (\"Poor sanitation\", 2405.459),\n",
    "    (\"No access to handwashing facility\", 5348.404),\n",
    "    (\"Indoor air pollution\", 271089.3),\n",
    "    (\"Charter Communications\", 2467),\n",
    "    (\"Non-exclusive breastfeeding\", 2674.242),\n",
    "    (\"Discontinued breastfeeding\", 100.923),\n",
    "    (\"Child wasting\", 17742.47),\n",
    "    (\"Child stunting\", 1636.863),\n",
    "    (\"Low birth weight\", 39334.55),\n",
    "    (\"Secondhand smoke\", 386641.4),\n",
    "    (\"Alcohol use\", 670297.3),\n",
    "    (\"Drug use\", 129306.3),\n",
    "    (\"Diet low in fruits\", 718507.1),\n",
    "    (\"Diet low in vegetables\", 277782.2),\n",
    "    (\"Unsafe sex\", 73366.9),\n",
    "    (\"Low physical activity\", 249699.3),\n",
    "    (\"High blood sugar\", 891047.2),\n",
    "    (\"Obesity\", 823869.3),\n",
    "    (\"High blood pressure\", 2542365),\n",
    "    (\"Smoking\", 2197653),\n",
    "    (\"Iron deficiency\", 325.329),\n",
    "    (\"Zinc deficiency\", 147.4667),\n",
    "    (\"Vitamin-A deficiency\", 1690.184),\n",
    "    (\"Low bone mineral density\", 68054.92),\n",
    "    (\"Air pollution (outdoor & indoor)\", 1242987),\n",
    "    (\"Outdoor air pollution\", 1029848),\n",
    "]\n",
    "\n",
    "\n",
    "def wordcloud_base() -> WordCloud:\n",
    "    c = (\n",
    "        WordCloud()\n",
    "        .add(\"\", words, word_size_range=[20, 100], shape = 'diamond')\n",
    "        .set_global_opts(title_opts=opts.TitleOpts(title=\"\"))\n",
    "    )\n",
    "    return c\n",
    "wordcloud_base().render()"
   ]
  },
  {
   "cell_type": "code",
   "execution_count": null,
   "metadata": {},
   "outputs": [],
   "source": []
  }
 ],
 "metadata": {
  "kernelspec": {
   "display_name": "Python 3",
   "language": "python",
   "name": "python3"
  },
  "language_info": {
   "codemirror_mode": {
    "name": "ipython",
    "version": 3
   },
   "file_extension": ".py",
   "mimetype": "text/x-python",
   "name": "python",
   "nbconvert_exporter": "python",
   "pygments_lexer": "ipython3",
   "version": "3.7.3"
  }
 },
 "nbformat": 4,
 "nbformat_minor": 2
}
