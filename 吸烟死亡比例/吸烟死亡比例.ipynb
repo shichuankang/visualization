{
 "cells": [
  {
   "cell_type": "code",
   "execution_count": 1,
   "metadata": {},
   "outputs": [],
   "source": [
    "import pandas as pd\n",
    "df=pd.read_csv(\"C:/Users/我我我/Desktop/China_smoke.csv\",index_col=\"死亡原因\")"
   ]
  },
  {
   "cell_type": "code",
   "execution_count": 2,
   "metadata": {},
   "outputs": [
    {
     "data": {
      "text/html": [
       "<div>\n",
       "<style scoped>\n",
       "    .dataframe tbody tr th:only-of-type {\n",
       "        vertical-align: middle;\n",
       "    }\n",
       "\n",
       "    .dataframe tbody tr th {\n",
       "        vertical-align: top;\n",
       "    }\n",
       "\n",
       "    .dataframe thead th {\n",
       "        text-align: right;\n",
       "    }\n",
       "</style>\n",
       "<table border=\"1\" class=\"dataframe\">\n",
       "  <thead>\n",
       "    <tr style=\"text-align: right;\">\n",
       "      <th></th>\n",
       "      <th>1990</th>\n",
       "      <th>1991</th>\n",
       "      <th>1992</th>\n",
       "      <th>1993</th>\n",
       "      <th>1994</th>\n",
       "      <th>1995</th>\n",
       "      <th>1996</th>\n",
       "      <th>1997</th>\n",
       "      <th>1998</th>\n",
       "      <th>1999</th>\n",
       "      <th>...</th>\n",
       "      <th>2008</th>\n",
       "      <th>2009</th>\n",
       "      <th>2010</th>\n",
       "      <th>2011</th>\n",
       "      <th>2012</th>\n",
       "      <th>2013</th>\n",
       "      <th>2014</th>\n",
       "      <th>2015</th>\n",
       "      <th>2016</th>\n",
       "      <th>2017</th>\n",
       "    </tr>\n",
       "    <tr>\n",
       "      <th>死亡原因</th>\n",
       "      <th></th>\n",
       "      <th></th>\n",
       "      <th></th>\n",
       "      <th></th>\n",
       "      <th></th>\n",
       "      <th></th>\n",
       "      <th></th>\n",
       "      <th></th>\n",
       "      <th></th>\n",
       "      <th></th>\n",
       "      <th></th>\n",
       "      <th></th>\n",
       "      <th></th>\n",
       "      <th></th>\n",
       "      <th></th>\n",
       "      <th></th>\n",
       "      <th></th>\n",
       "      <th></th>\n",
       "      <th></th>\n",
       "      <th></th>\n",
       "      <th></th>\n",
       "    </tr>\n",
       "  </thead>\n",
       "  <tbody>\n",
       "    <tr>\n",
       "      <th>吸烟</th>\n",
       "      <td>15.28</td>\n",
       "      <td>15.72</td>\n",
       "      <td>16.16</td>\n",
       "      <td>16.62</td>\n",
       "      <td>17.05</td>\n",
       "      <td>17.56</td>\n",
       "      <td>18.03</td>\n",
       "      <td>18.51</td>\n",
       "      <td>19.07</td>\n",
       "      <td>19.56</td>\n",
       "      <td>...</td>\n",
       "      <td>20.43</td>\n",
       "      <td>20.53</td>\n",
       "      <td>20.52</td>\n",
       "      <td>20.52</td>\n",
       "      <td>20.51</td>\n",
       "      <td>20.46</td>\n",
       "      <td>20.58</td>\n",
       "      <td>20.83</td>\n",
       "      <td>20.97</td>\n",
       "      <td>21.03</td>\n",
       "    </tr>\n",
       "  </tbody>\n",
       "</table>\n",
       "<p>1 rows × 28 columns</p>\n",
       "</div>"
      ],
      "text/plain": [
       "       1990   1991   1992   1993   1994   1995   1996   1997   1998   1999  \\\n",
       "死亡原因                                                                         \n",
       "吸烟    15.28  15.72  16.16  16.62  17.05  17.56  18.03  18.51  19.07  19.56   \n",
       "\n",
       "      ...   2008   2009   2010   2011   2012   2013   2014   2015   2016  \\\n",
       "死亡原因  ...                                                                  \n",
       "吸烟    ...  20.43  20.53  20.52  20.52  20.51  20.46  20.58  20.83  20.97   \n",
       "\n",
       "       2017  \n",
       "死亡原因         \n",
       "吸烟    21.03  \n",
       "\n",
       "[1 rows x 28 columns]"
      ]
     },
     "execution_count": 2,
     "metadata": {},
     "output_type": "execute_result"
    }
   ],
   "source": [
    "df"
   ]
  },
  {
   "cell_type": "code",
   "execution_count": 3,
   "metadata": {},
   "outputs": [
    {
     "data": {
      "text/plain": [
       "[15.28,\n",
       " 15.72,\n",
       " 16.16,\n",
       " 16.62,\n",
       " 17.05,\n",
       " 17.56,\n",
       " 18.03,\n",
       " 18.51,\n",
       " 19.07,\n",
       " 19.56,\n",
       " 19.97,\n",
       " 20.38,\n",
       " 20.74,\n",
       " 21.09,\n",
       " 21.08,\n",
       " 20.93,\n",
       " 20.85,\n",
       " 20.79,\n",
       " 20.43,\n",
       " 20.53,\n",
       " 20.52,\n",
       " 20.52,\n",
       " 20.51,\n",
       " 20.46,\n",
       " 20.58,\n",
       " 20.83,\n",
       " 20.97,\n",
       " 21.03]"
      ]
     },
     "execution_count": 3,
     "metadata": {},
     "output_type": "execute_result"
    }
   ],
   "source": [
    "吸烟 =list(df.loc[\"吸烟\"].values)\n",
    "吸烟"
   ]
  },
  {
   "cell_type": "code",
   "execution_count": 8,
   "metadata": {},
   "outputs": [
    {
     "data": {
      "text/plain": [
       "'C:\\\\Users\\\\我我我\\\\吸烟死亡比例.html'"
      ]
     },
     "execution_count": 8,
     "metadata": {},
     "output_type": "execute_result"
    }
   ],
   "source": [
    "import pyecharts.options as opts\n",
    "from pyecharts.faker import  Faker\n",
    "from pyecharts.charts import Line\n",
    "\n",
    "def line_itemstyle() -> Line:\n",
    "    c = (\n",
    "        Line()\n",
    "        .add_xaxis(xaxis_data=[\"1990\",\"1991\",\"1992\",\"1993\",\"1994\",\"1995\",\"1996\",\"1997\",\"1998\",\"1999\",\"2000\",\"2001\",\"2002\",\"2003\",\"2004\",\"2005\",\"2006\",\"2007\",\"2008\",\"2009\",\"2010\",\"2011\",\"2012\",\"2013\",\"2014\",\"2015\",\"2016\",\"2017\"])\n",
    "        .add_yaxis(\n",
    "            \"吸烟死亡比例\",\n",
    "            吸烟,\n",
    "            symbol=\"triangle\",\n",
    "            symbol_size=20,\n",
    "            linestyle_opts=opts.LineStyleOpts(color=\"green\", width=4, type_=\"dashed\"),\n",
    "            label_opts=opts.LabelOpts(is_show=False),\n",
    "            itemstyle_opts=opts.ItemStyleOpts(\n",
    "                border_width=3, border_color=\"yellow\", color=\"blue\"\n",
    "            ),\n",
    "        )\n",
    "        .set_global_opts(\n",
    "            title_opts=opts.TitleOpts(title=\"中国因吸烟死亡比例\"),\n",
    "            xaxis_opts=opts.AxisOpts(type_=\"category\"),\n",
    "            yaxis_opts=opts.AxisOpts(\n",
    "                type_=\"value\",\n",
    "                axistick_opts=opts.AxisTickOpts(is_show=True),\n",
    "                splitline_opts=opts.SplitLineOpts(is_show=True),\n",
    "            ),\n",
    "            tooltip_opts=opts.TooltipOpts(is_show=False),\n",
    "        )\n",
    "    )\n",
    "    return c\n",
    "line_itemstyle().render(path=\"吸烟死亡比例.html\")"
   ]
  },
  {
   "cell_type": "code",
   "execution_count": null,
   "metadata": {},
   "outputs": [],
   "source": []
  }
 ],
 "metadata": {
  "kernelspec": {
   "display_name": "Python 3",
   "language": "python",
   "name": "python3"
  },
  "language_info": {
   "codemirror_mode": {
    "name": "ipython",
    "version": 3
   },
   "file_extension": ".py",
   "mimetype": "text/x-python",
   "name": "python",
   "nbconvert_exporter": "python",
   "pygments_lexer": "ipython3",
   "version": "3.7.3"
  }
 },
 "nbformat": 4,
 "nbformat_minor": 2
}
