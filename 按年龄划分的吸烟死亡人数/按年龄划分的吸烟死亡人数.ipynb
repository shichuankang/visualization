{
 "cells": [
  {
   "cell_type": "code",
   "execution_count": 28,
   "metadata": {},
   "outputs": [],
   "source": [
    "import pandas as pd\n",
    "df=pd.read_csv(\"C:/Users/我我我/Desktop/smoking_age.csv\",index_col=\"age\")"
   ]
  },
  {
   "cell_type": "code",
   "execution_count": 29,
   "metadata": {},
   "outputs": [
    {
     "data": {
      "text/html": [
       "<div>\n",
       "<style scoped>\n",
       "    .dataframe tbody tr th:only-of-type {\n",
       "        vertical-align: middle;\n",
       "    }\n",
       "\n",
       "    .dataframe tbody tr th {\n",
       "        vertical-align: top;\n",
       "    }\n",
       "\n",
       "    .dataframe thead th {\n",
       "        text-align: right;\n",
       "    }\n",
       "</style>\n",
       "<table border=\"1\" class=\"dataframe\">\n",
       "  <thead>\n",
       "    <tr style=\"text-align: right;\">\n",
       "      <th></th>\n",
       "      <th>2000</th>\n",
       "      <th>2001</th>\n",
       "      <th>2002</th>\n",
       "      <th>2003</th>\n",
       "      <th>2004</th>\n",
       "      <th>2005</th>\n",
       "      <th>2006</th>\n",
       "      <th>2007</th>\n",
       "      <th>2008</th>\n",
       "      <th>2009</th>\n",
       "      <th>2010</th>\n",
       "      <th>2011</th>\n",
       "      <th>2012</th>\n",
       "      <th>2013</th>\n",
       "      <th>2014</th>\n",
       "      <th>2015</th>\n",
       "      <th>2016</th>\n",
       "      <th>2017</th>\n",
       "    </tr>\n",
       "    <tr>\n",
       "      <th>age</th>\n",
       "      <th></th>\n",
       "      <th></th>\n",
       "      <th></th>\n",
       "      <th></th>\n",
       "      <th></th>\n",
       "      <th></th>\n",
       "      <th></th>\n",
       "      <th></th>\n",
       "      <th></th>\n",
       "      <th></th>\n",
       "      <th></th>\n",
       "      <th></th>\n",
       "      <th></th>\n",
       "      <th></th>\n",
       "      <th></th>\n",
       "      <th></th>\n",
       "      <th></th>\n",
       "      <th></th>\n",
       "    </tr>\n",
       "  </thead>\n",
       "  <tbody>\n",
       "    <tr>\n",
       "      <th>70岁以上</th>\n",
       "      <td>914405.5911</td>\n",
       "      <td>942883.2609</td>\n",
       "      <td>976573.4720</td>\n",
       "      <td>1.020255e+06</td>\n",
       "      <td>1.035801e+06</td>\n",
       "      <td>1.021614e+06</td>\n",
       "      <td>997690.9214</td>\n",
       "      <td>999437.1429</td>\n",
       "      <td>1.019368e+06</td>\n",
       "      <td>1.053593e+06</td>\n",
       "      <td>1.083457e+06</td>\n",
       "      <td>1.093939e+06</td>\n",
       "      <td>1.090971e+06</td>\n",
       "      <td>1.065824e+06</td>\n",
       "      <td>1.088877e+06</td>\n",
       "      <td>1.133099e+06</td>\n",
       "      <td>1.177460e+06</td>\n",
       "      <td>1.223211e+06</td>\n",
       "    </tr>\n",
       "    <tr>\n",
       "      <th>15至49岁</th>\n",
       "      <td>157494.9722</td>\n",
       "      <td>146546.5164</td>\n",
       "      <td>136923.0662</td>\n",
       "      <td>1.253834e+05</td>\n",
       "      <td>1.231677e+05</td>\n",
       "      <td>1.200156e+05</td>\n",
       "      <td>113968.1883</td>\n",
       "      <td>112763.2850</td>\n",
       "      <td>1.165919e+05</td>\n",
       "      <td>1.217954e+05</td>\n",
       "      <td>1.262000e+05</td>\n",
       "      <td>1.279703e+05</td>\n",
       "      <td>1.301745e+05</td>\n",
       "      <td>1.299006e+05</td>\n",
       "      <td>1.277591e+05</td>\n",
       "      <td>1.241385e+05</td>\n",
       "      <td>1.201885e+05</td>\n",
       "      <td>1.162980e+05</td>\n",
       "    </tr>\n",
       "    <tr>\n",
       "      <th>50至69岁</th>\n",
       "      <td>593128.0143</td>\n",
       "      <td>604979.0229</td>\n",
       "      <td>623250.4438</td>\n",
       "      <td>6.443452e+05</td>\n",
       "      <td>6.492394e+05</td>\n",
       "      <td>6.350735e+05</td>\n",
       "      <td>615673.7702</td>\n",
       "      <td>610025.5374</td>\n",
       "      <td>6.107253e+05</td>\n",
       "      <td>6.159814e+05</td>\n",
       "      <td>6.326190e+05</td>\n",
       "      <td>6.577271e+05</td>\n",
       "      <td>6.890002e+05</td>\n",
       "      <td>7.185440e+05</td>\n",
       "      <td>7.803276e+05</td>\n",
       "      <td>8.462501e+05</td>\n",
       "      <td>8.772619e+05</td>\n",
       "      <td>8.581437e+05</td>\n",
       "    </tr>\n",
       "  </tbody>\n",
       "</table>\n",
       "</div>"
      ],
      "text/plain": [
       "               2000         2001         2002          2003          2004  \\\n",
       "age                                                                         \n",
       "70岁以上   914405.5911  942883.2609  976573.4720  1.020255e+06  1.035801e+06   \n",
       "15至49岁  157494.9722  146546.5164  136923.0662  1.253834e+05  1.231677e+05   \n",
       "50至69岁  593128.0143  604979.0229  623250.4438  6.443452e+05  6.492394e+05   \n",
       "\n",
       "                2005         2006         2007          2008          2009  \\\n",
       "age                                                                          \n",
       "70岁以上   1.021614e+06  997690.9214  999437.1429  1.019368e+06  1.053593e+06   \n",
       "15至49岁  1.200156e+05  113968.1883  112763.2850  1.165919e+05  1.217954e+05   \n",
       "50至69岁  6.350735e+05  615673.7702  610025.5374  6.107253e+05  6.159814e+05   \n",
       "\n",
       "                2010          2011          2012          2013          2014  \\\n",
       "age                                                                            \n",
       "70岁以上   1.083457e+06  1.093939e+06  1.090971e+06  1.065824e+06  1.088877e+06   \n",
       "15至49岁  1.262000e+05  1.279703e+05  1.301745e+05  1.299006e+05  1.277591e+05   \n",
       "50至69岁  6.326190e+05  6.577271e+05  6.890002e+05  7.185440e+05  7.803276e+05   \n",
       "\n",
       "                2015          2016          2017  \n",
       "age                                               \n",
       "70岁以上   1.133099e+06  1.177460e+06  1.223211e+06  \n",
       "15至49岁  1.241385e+05  1.201885e+05  1.162980e+05  \n",
       "50至69岁  8.462501e+05  8.772619e+05  8.581437e+05  "
      ]
     },
     "execution_count": 29,
     "metadata": {},
     "output_type": "execute_result"
    }
   ],
   "source": [
    "df"
   ]
  },
  {
   "cell_type": "code",
   "execution_count": 30,
   "metadata": {},
   "outputs": [
    {
     "data": {
      "text/plain": [
       "[2000,\n",
       " 2001,\n",
       " 2002,\n",
       " 2003,\n",
       " 2004,\n",
       " 2005,\n",
       " 2006,\n",
       " 2007,\n",
       " 2008,\n",
       " 2009,\n",
       " 2010,\n",
       " 2011,\n",
       " 2012,\n",
       " 2013,\n",
       " 2014,\n",
       " 2015,\n",
       " 2016,\n",
       " 2017]"
      ]
     },
     "execution_count": 30,
     "metadata": {},
     "output_type": "execute_result"
    }
   ],
   "source": [
    "x轴 = [int(x)for x in df.columns.values]\n",
    "x轴"
   ]
  },
  {
   "cell_type": "code",
   "execution_count": 31,
   "metadata": {},
   "outputs": [
    {
     "data": {
      "text/plain": [
       "[914405.5911,\n",
       " 942883.2609,\n",
       " 976573.4720000001,\n",
       " 1020254.6429999999,\n",
       " 1035801.1640000001,\n",
       " 1021614.05,\n",
       " 997690.9214,\n",
       " 999437.1429,\n",
       " 1019368.3659999999,\n",
       " 1053593.16,\n",
       " 1083457.043,\n",
       " 1093939.426,\n",
       " 1090970.654,\n",
       " 1065824.453,\n",
       " 1088877.488,\n",
       " 1133099.264,\n",
       " 1177460.275,\n",
       " 1223210.94]"
      ]
     },
     "execution_count": 31,
     "metadata": {},
     "output_type": "execute_result"
    }
   ],
   "source": [
    "七十岁以上 =list(df.loc[\"70岁以上\"].values)\n",
    "七十岁以上"
   ]
  },
  {
   "cell_type": "code",
   "execution_count": 32,
   "metadata": {},
   "outputs": [
    {
     "data": {
      "text/plain": [
       "[157494.9722,\n",
       " 146546.5164,\n",
       " 136923.0662,\n",
       " 125383.3681,\n",
       " 123167.7345,\n",
       " 120015.5861,\n",
       " 113968.1883,\n",
       " 112763.285,\n",
       " 116591.8811,\n",
       " 121795.3747,\n",
       " 126199.9783,\n",
       " 127970.2739,\n",
       " 130174.5345,\n",
       " 129900.6197,\n",
       " 127759.0934,\n",
       " 124138.543,\n",
       " 120188.5147,\n",
       " 116297.9935]"
      ]
     },
     "execution_count": 32,
     "metadata": {},
     "output_type": "execute_result"
    }
   ],
   "source": [
    "十五至四十九岁 =list(df.loc[\"15至49岁\"].values)\n",
    "十五至四十九岁"
   ]
  },
  {
   "cell_type": "code",
   "execution_count": 33,
   "metadata": {},
   "outputs": [
    {
     "data": {
      "text/plain": [
       "[593128.0143,\n",
       " 604979.0229,\n",
       " 623250.4438,\n",
       " 644345.2325,\n",
       " 649239.4186,\n",
       " 635073.4537,\n",
       " 615673.7702,\n",
       " 610025.5374,\n",
       " 610725.3383,\n",
       " 615981.3671,\n",
       " 632619.0011,\n",
       " 657727.095,\n",
       " 689000.1749,\n",
       " 718543.9511,\n",
       " 780327.5732,\n",
       " 846250.1063,\n",
       " 877261.8507,\n",
       " 858143.6807]"
      ]
     },
     "execution_count": 33,
     "metadata": {},
     "output_type": "execute_result"
    }
   ],
   "source": [
    "五十至六十九岁 =list(df.loc[\"50至69岁\"].values)\n",
    "五十至六十九岁"
   ]
  },
  {
   "cell_type": "code",
   "execution_count": 57,
   "metadata": {},
   "outputs": [
    {
     "data": {
      "text/plain": [
       "'C:\\\\Users\\\\我我我\\\\Desktop\\\\按年龄划分吸烟死亡人数.html'"
      ]
     },
     "execution_count": 57,
     "metadata": {},
     "output_type": "execute_result"
    }
   ],
   "source": [
    "import pyecharts.options as opts\n",
    "from pyecharts.faker import  Faker\n",
    "from pyecharts.charts import Line\n",
    "\n",
    "def line_areastyle_boundary_gap() -> Line:\n",
    "    c = (\n",
    "        Line()\n",
    "        .add_xaxis([\"2000\",\"2001\",\"2002\",\"2003\",\"2004\",\"2005\",\"2006\",\"2007\",\"2008\",\"2009\",\"2010\",\"2011\",\"2012\",\"2013\",\"2014\",\"2015\",\"2016\",\"2017\"])\n",
    "        .add_yaxis(\"70+ years old\",七十岁以上, is_smooth=True)\n",
    "        .add_yaxis(\"15-49 years old\",十五至四十九岁, is_smooth=True)\n",
    "        .add_yaxis(\"50-69 years old\",五十至六十九岁, is_smooth=True)\n",
    "        .set_series_opts(\n",
    "            areastyle_opts=opts.AreaStyleOpts(opacity=0.5),\n",
    "            label_opts=opts.LabelOpts(is_show=False),\n",
    "        )\n",
    "        .set_global_opts(\n",
    "            title_opts=opts.TitleOpts(title=\"按年龄划分的吸烟死亡人数\"),\n",
    "            xaxis_opts=opts.AxisOpts(\n",
    "                axistick_opts=opts.AxisTickOpts(is_align_with_label=True),\n",
    "                is_scale=False,\n",
    "                boundary_gap=False,\n",
    "            ),\n",
    "        )\n",
    "    )\n",
    "    return c\n",
    "line_areastyle_boundary_gap().render(path=\"按年龄划分吸烟死亡人数.html\")"
   ]
  },
  {
   "cell_type": "markdown",
   "metadata": {},
   "source": [
    "# 按年龄划分的吸烟死亡人数\n",
    "### 表格为2000年到2017年中国按年龄划分的吸烟死亡人数。15岁以下人群吸烟死亡数为0，因此不包括15岁以下人群。\n",
    "### 从可视化图表可以看出吸烟死亡在老年人口中较为常见，70岁以上占了一半，年轻人和儿童因吸烟死亡人数很低。"
   ]
  },
  {
   "cell_type": "code",
   "execution_count": null,
   "metadata": {},
   "outputs": [],
   "source": []
  }
 ],
 "metadata": {
  "kernelspec": {
   "display_name": "Python 3",
   "language": "python",
   "name": "python3"
  },
  "language_info": {
   "codemirror_mode": {
    "name": "ipython",
    "version": 3
   },
   "file_extension": ".py",
   "mimetype": "text/x-python",
   "name": "python",
   "nbconvert_exporter": "python",
   "pygments_lexer": "ipython3",
   "version": "3.7.3"
  }
 },
 "nbformat": 4,
 "nbformat_minor": 2
}
