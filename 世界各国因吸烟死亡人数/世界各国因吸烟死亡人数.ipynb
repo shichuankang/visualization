{
 "cells": [
  {
   "cell_type": "code",
   "execution_count": 8,
   "metadata": {},
   "outputs": [
    {
     "data": {
      "text/plain": [
       "'C:\\\\Users\\\\我我我\\\\Desktop\\\\render.html'"
      ]
     },
     "execution_count": 8,
     "metadata": {},
     "output_type": "execute_result"
    }
   ],
   "source": [
    "from pyecharts.charts import Bar,Tab,Line,Map,Timeline,Grid,Scatter\n",
    "from pyecharts import options as opts \n",
    "import pandas as pd \n",
    "import numpy as np\n",
    "\n",
    "df2 = pd.read_csv(\"death_smoke.csv\",encoding='utf-8') \n",
    "\n",
    "\n",
    "def timeline_map() -> Timeline:\n",
    "    tl = Timeline()\n",
    "    for i in range(2000, 2017):\n",
    "        map0 = (\n",
    "            Map()\n",
    "            .add(\n",
    "                \"\", list(zip(list(df2.国家),list(df2[\"{}\".format(i)]))), \"world\",is_map_symbol_show = False\n",
    "            )\n",
    "            .set_series_opts(label_opts=opts.LabelOpts(is_show=False))\n",
    "            .set_global_opts(\n",
    "                title_opts=opts.TitleOpts(title=\"2000年-2017年世界各国因吸烟死亡人数\".format(i),subtitle=\"\",\n",
    "                                         subtitle_textstyle_opts=opts.TextStyleOpts(color=\"black\",font_size=16,font_style=\"italic\")),\n",
    "                visualmap_opts=opts.VisualMapOpts(max_=266,min_=15),\n",
    "               \n",
    "            \n",
    "            )\n",
    "        )\n",
    "        tl.add(map0, \"{}年\".format(i))\n",
    "    return tl\n",
    "timeline_map().render()"
   ]
  },
  {
   "cell_type": "markdown",
   "metadata": {},
   "source": [
    "# 亚洲和东欧每年因吸烟死亡人数最多\n",
    "### 地图展示的是世界各国因吸烟死亡人数，衡量标准为每个国家每10万人中因吸烟死亡的人数。\n",
    "### 从地图可以看出，亚洲和东欧国家每年因吸烟死亡人数普遍高于其他国家，死亡人数通常超过100。\n",
    "### 在一些人均收入较低的国家，吸烟率较低，因此因吸烟死亡率也普遍低于其他高收入国家。"
   ]
  },
  {
   "cell_type": "code",
   "execution_count": null,
   "metadata": {},
   "outputs": [],
   "source": []
  }
 ],
 "metadata": {
  "kernelspec": {
   "display_name": "Python 3",
   "language": "python",
   "name": "python3"
  },
  "language_info": {
   "codemirror_mode": {
    "name": "ipython",
    "version": 3
   },
   "file_extension": ".py",
   "mimetype": "text/x-python",
   "name": "python",
   "nbconvert_exporter": "python",
   "pygments_lexer": "ipython3",
   "version": "3.7.3"
  }
 },
 "nbformat": 4,
 "nbformat_minor": 2
}
